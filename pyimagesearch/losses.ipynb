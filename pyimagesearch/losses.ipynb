{
 "cells": [
  {
   "cell_type": "code",
   "execution_count": 1,
   "metadata": {},
   "outputs": [],
   "source": [
    "# import necessary packages\n",
    "import tensorflow as tf\n",
    "from tensorflow.keras.losses import MeanSquaredError\n",
    "from tensorflow.keras.losses import BinaryCrossentropy\n",
    "from tensorflow.keras.losses import Reduction\n",
    "from tensorflow import reduce_mean"
   ]
  },
  {
   "cell_type": "code",
   "execution_count": 3,
   "metadata": {},
   "outputs": [],
   "source": [
    "class Losses:\n",
    "    def __init__(self, numReplicas):\n",
    "        self.numReplicas = numReplicas\n",
    "    def bce_loss(self, real, pred):\n",
    "        # compute binary cross entropy loss without reduction\n",
    "        BCE = BinaryCrossentropy(reduction=Reduction.NONE)\n",
    "        loss = BCE(real, pred)\n",
    "        # compute reduced mean over the entire batch\n",
    "        loss = reduce_mean(loss) * (1. / self.numReplicas)\n",
    "        # return reduced bce loss\n",
    "        return loss\n",
    "    \n",
    "    def mse_loss(self, real, pred):\n",
    "        # compute mean squared error loss without reduction\n",
    "        MSE = MeanSquaredError(reduction=Reduction.NONE)\n",
    "        loss = MSE(real, pred)\n",
    "        # compute reduced mean over the entire batch\n",
    "        loss = reduce_mean(loss) * (1. / self.numReplicas)\n",
    "        # return reduced mse loss\n",
    "        return loss"
   ]
  },
  {
   "cell_type": "code",
   "execution_count": null,
   "metadata": {},
   "outputs": [],
   "source": []
  }
 ],
 "metadata": {
  "kernelspec": {
   "display_name": "base",
   "language": "python",
   "name": "python3"
  },
  "language_info": {
   "codemirror_mode": {
    "name": "ipython",
    "version": 3
   },
   "file_extension": ".py",
   "mimetype": "text/x-python",
   "name": "python",
   "nbconvert_exporter": "python",
   "pygments_lexer": "ipython3",
   "version": "3.10.9"
  }
 },
 "nbformat": 4,
 "nbformat_minor": 2
}
